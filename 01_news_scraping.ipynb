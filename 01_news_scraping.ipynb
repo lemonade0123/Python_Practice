{
 "cells": [
  {
   "cell_type": "markdown",
   "id": "6368a10a",
   "metadata": {},
   "source": [
    "#1. Daum 뉴스기사 제목 스크래핑하기"
   ]
  },
  {
   "cell_type": "code",
   "execution_count": 13,
   "id": "9dd31ca1",
   "metadata": {},
   "outputs": [
    {
     "name": "stdout",
     "output_type": "stream",
     "text": [
      "https://news.daum.net/economy\n",
      "<Response [200]>\n",
      "<class 'requests.models.Response'>\n",
      "200 True\n",
      "https://v.daum.net/v/20250408184905360 ‘관세 직격탄’ 애플 주가 19% ‘뚝’… 갈수록 커지는 ‘T공포’ [관세전쟁 후폭풍]\n",
      "https://v.daum.net/v/20250408183514025 미·중 치킨게임…원화값 1473원대 추락, 글로벌 금융위기 후 최저\n",
      "https://v.daum.net/v/20250408175343664 美·中 관세 폭탄 돌리기…‘새우등’ 한국 경제 불안감 더 커졌다\n",
      "https://v.daum.net/v/20250408175111585 나랏빚 1175조 '역대 최대'…추경 재원 바닥\n",
      "https://v.daum.net/v/20250408174344325 메디젠휴먼케어, \"23andMe 파산..한국 유전체 산업의 위기 아닌 기회\"\n",
      "https://v.daum.net/v/20250408173713085 칩 확보서 데이터센터까지···전 산업에 'AI 고속도로' 깔아야\n",
      "https://v.daum.net/v/20250408173626057 77년 묵은 정부조직, 데이터 중심 대수술···'AI 부총리' 도입을\n",
      "https://v.daum.net/v/20250408161553109 트럼프발 주가폭락에 동아 \"경제적 핵전쟁\" 조선 \"금융위기 후 최악\"\n",
      "https://v.daum.net/v/20250408160526681 공황과 격변의 판도라 박스가 열리다\n"
     ]
    }
   ],
   "source": [
    "import requests\n",
    "import bs4\n",
    "from bs4 import BeautifulSoup\n",
    "\n",
    "req_param = {\"sid\": \"economy\"}\n",
    "\n",
    "url = \"https://news.daum.net/{sid}\".format(**req_param)\n",
    "print(url)\n",
    "\n",
    "req_header = {\n",
    "    \"user-agent\": \"Mozilla/5.0 (Windows NT 10.0; Win64; x64) AppleWebKit/537.36 (KHTML, like Gecko) Chrome/135.0.0.0 Safari/537.36\"\n",
    "}\n",
    "\n",
    "res = requests.get(url, headers=req_header)\n",
    "res.encoding = 'utf-8'\n",
    "print(res)\n",
    "print(type(res))\n",
    "print(res.status_code, res.ok)\n",
    "\n",
    "if res.ok:\n",
    "    html = res.text\n",
    "    soup = BeautifulSoup(html, \"html.parser\")\n",
    "    \n",
    "    \n",
    "    for li_tag in soup.select('ul.list_newsheadline2 li'):\n",
    "        a_tag = li_tag.find('a')\n",
    "        link = a_tag['href']\t\n",
    "        \n",
    "        strong_tag = li_tag.select_one('div.cont_thumb strong.tit_txt')\n",
    "        title = strong_tag.text\n",
    "        print(link, title)\n",
    "        \n",
    "else:\n",
    "    print(f\"에러코드 = {res.status_code}\")\n"
   ]
  }
 ],
 "metadata": {
  "kernelspec": {
   "display_name": "base",
   "language": "python",
   "name": "python3"
  },
  "language_info": {
   "codemirror_mode": {
    "name": "ipython",
    "version": 3
   },
   "file_extension": ".py",
   "mimetype": "text/x-python",
   "name": "python",
   "nbconvert_exporter": "python",
   "pygments_lexer": "ipython3",
   "version": "3.12.7"
  }
 },
 "nbformat": 4,
 "nbformat_minor": 5
}
