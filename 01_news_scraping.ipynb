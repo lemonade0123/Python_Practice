{
 "cells": [
  {
   "cell_type": "markdown",
   "id": "6368a10a",
   "metadata": {},
   "source": [
    "#1. Daum 뉴스기사 제목 스크래핑하기"
   ]
  },
  {
   "cell_type": "markdown",
   "id": "0f97dc8b",
   "metadata": {},
   "source": [
    "1-1 뉴스기사 제목, 링크 출력력"
   ]
  },
  {
   "cell_type": "code",
   "execution_count": null,
   "id": "9dd31ca1",
   "metadata": {},
   "outputs": [
    {
     "name": "stdout",
     "output_type": "stream",
     "text": [
      "https://news.daum.net/economy\n",
      "<Response [200]>\n",
      "<class 'requests.models.Response'>\n",
      "200 True\n",
      "https://v.daum.net/v/20250408184905360 ‘관세 직격탄’ 애플 주가 19% ‘뚝’… 갈수록 커지는 ‘T공포’ [관세전쟁 후폭풍]\n",
      "https://v.daum.net/v/20250408183514025 미·중 치킨게임…원화값 1473원대 추락, 글로벌 금융위기 후 최저\n",
      "https://v.daum.net/v/20250408175343664 美·中 관세 폭탄 돌리기…‘새우등’ 한국 경제 불안감 더 커졌다\n",
      "https://v.daum.net/v/20250408175111585 나랏빚 1175조 '역대 최대'…추경 재원 바닥\n",
      "https://v.daum.net/v/20250408174344325 메디젠휴먼케어, \"23andMe 파산..한국 유전체 산업의 위기 아닌 기회\"\n",
      "https://v.daum.net/v/20250408173713085 칩 확보서 데이터센터까지···전 산업에 'AI 고속도로' 깔아야\n",
      "https://v.daum.net/v/20250408173626057 77년 묵은 정부조직, 데이터 중심 대수술···'AI 부총리' 도입을\n",
      "https://v.daum.net/v/20250408161553109 트럼프발 주가폭락에 동아 \"경제적 핵전쟁\" 조선 \"금융위기 후 최악\"\n",
      "https://v.daum.net/v/20250408160526681 공황과 격변의 판도라 박스가 열리다\n"
     ]
    }
   ],
   "source": [
    "import requests\n",
    "import bs4\n",
    "from bs4 import BeautifulSoup\n",
    "\n",
    "req_param = {\"sid\": \"economy\"}\n",
    "\n",
    "url = \"https://news.daum.net/{sid}\".format(**req_param)\n",
    "print(url)\n",
    "\n",
    "req_header = {\n",
    "    \"user-agent\": \"Mozilla/5.0 (Windows NT 10.0; Win64; x64) AppleWebKit/537.36 (KHTML, like Gecko) Chrome/135.0.0.0 Safari/537.36\"\n",
    "}\n",
    "\n",
    "res = requests.get(url, headers=req_header)\n",
    "res.encoding = 'utf-8'\n",
    "print(res)\n",
    "print(type(res))\n",
    "print(res.status_code, res.ok)\n",
    "\n",
    "if res.ok:\n",
    "    html = res.text\n",
    "    soup = BeautifulSoup(html, \"html.parser\")\n",
    "    \n",
    "    \n",
    "    for li_tag in soup.select('ul.list_newsheadline2 li'):\n",
    "        a_tag = li_tag.find('a')\n",
    "        link = a_tag['href']\t\n",
    "        \n",
    "        strong_tag = li_tag.select_one('div.cont_thumb strong.tit_txt')\n",
    "        title = strong_tag.text\n",
    "        print(link, title)\n",
    "        \n",
    "else:\n",
    "    print(f\"에러코드 = {res.status_code}\")\n"
   ]
  },
  {
   "cell_type": "markdown",
   "id": "8be2a696",
   "metadata": {},
   "source": [
    "1-2 여러개의 section 중 하나를 선택해서 url에서 뉴스기사의 링크와 제목을 출력하는 코드를 함수로 작성"
   ]
  },
  {
   "cell_type": "code",
   "execution_count": 36,
   "id": "cc8db0a4",
   "metadata": {},
   "outputs": [],
   "source": [
    "import requests\n",
    "from bs4 import BeautifulSoup\n",
    "\n",
    "section_dict = {\n",
    "    \"기후/환경\": \"climate\",\n",
    "    \"사회\": \"society\",\n",
    "    \"경제\": \"economy\",\n",
    "    \"정치\": \"politics\",\n",
    "    \"국제\": \"world\",\n",
    "    \"문화\": \"culture\",\n",
    "    \"생활\": \"life\",\n",
    "    \"IT/과학\": \"tech\",\n",
    "    \"인물\": \"people\",\n",
    "}\n",
    "\n",
    "def print_news(section_name):\n",
    "    section = section_dict[section_name]\n",
    "    url = \"https://news.daum.net/{}\".format(section)\n",
    "    print(f\"=====> {url} {section_name} 뉴스 <=====\")\n",
    "    \n",
    "    req_header = {\n",
    "    \"user-agent\": \"Mozilla/5.0 (Windows NT 10.0; Win64; x64) AppleWebKit/537.36 (KHTML, like Gecko) Chrome/135.0.0.0 Safari/537.36\"\n",
    "}\n",
    "    \n",
    "    res = requests.get(url, headers=req_header)\n",
    "    res.encoding = 'utf-8'\n",
    "    \n",
    "    if res.ok:\n",
    "        html = res.text\n",
    "        soup = BeautifulSoup(html, \"html.parser\")\n",
    "        \n",
    "        for li_tag in soup.select('ul.list_newsheadline2 li'):\n",
    "            a_tag = li_tag.find('a')\n",
    "            link = a_tag['href']\t\n",
    "        \n",
    "            strong_tag = li_tag.select_one('div.cont_thumb strong.tit_txt')\n",
    "            title = strong_tag.text\n",
    "            print(link, title)\n",
    "        \n",
    "    else:\n",
    "        print(f\"Error code = {res.status_code}\")\n",
    "        \n",
    "        \n",
    "    "
   ]
  },
  {
   "cell_type": "code",
   "execution_count": 37,
   "id": "7553b32e",
   "metadata": {},
   "outputs": [
    {
     "name": "stdout",
     "output_type": "stream",
     "text": [
      "=====> https://news.daum.net/economy 경제 뉴스 <=====\n",
      "https://v.daum.net/v/20250408210600644 “경영 노하우 공유하는 특별한 경험”…매일경제-성남상의, 제7기 최고경영자과정 입학식\n",
      "https://v.daum.net/v/20250408205853462 가성비로 무장한 단체, 다시 제주로 간다” 수학여행부터 대만 인센티브까지.. ‘단체관광’이 살리는 제주\n",
      "https://v.daum.net/v/20250408204335126 부동산 경기 활성화와 가계 부채 억제 사이, 새 정부 선택은?[정준호의 부동산과 사회경제]\n",
      "https://v.daum.net/v/20250408184905360 ‘관세 직격탄’ 애플 주가 19% ‘뚝’… 갈수록 커지는 ‘T공포’ [관세전쟁 후폭풍]\n",
      "https://v.daum.net/v/20250408183514025 미·중 치킨게임…원화값 1473원대 추락, 글로벌 금융위기 후 최저\n",
      "https://v.daum.net/v/20250408175343664 美·中 관세 폭탄 돌리기…‘새우등’ 한국 경제 불안감 더 커졌다\n",
      "https://v.daum.net/v/20250408175111585 나랏빚 1175조 '역대 최대'…추경 재원 바닥\n",
      "https://v.daum.net/v/20250408174344325 메디젠휴먼케어, \"23andMe 파산..한국 유전체 산업의 위기 아닌 기회\"\n",
      "https://v.daum.net/v/20250408173713085 칩 확보서 데이터센터까지···전 산업에 'AI 고속도로' 깔아야\n"
     ]
    }
   ],
   "source": [
    "print_news('경제')"
   ]
  },
  {
   "cell_type": "code",
   "execution_count": 38,
   "id": "00bf8ba6",
   "metadata": {},
   "outputs": [
    {
     "name": "stdout",
     "output_type": "stream",
     "text": [
      "=====> https://news.daum.net/world 국제 뉴스 <=====\n",
      "https://v.daum.net/v/20250408231454128 트럼프 관세 압박 속 EU·中 7월 정상회담…관계개선 탐색 무드(종합)\n",
      "https://v.daum.net/v/20250408230848022 EU, 트럼프에 \"LNG 수입 논의 의향\"…협상카드는 점점 '고갈'\n",
      "https://v.daum.net/v/20250408223337413 범죄 불체자로 잘못 추방된 '비' 미국인, 미국으로 다시 올수 있을까\n",
      "https://v.daum.net/v/20250408202648744 트럼프 “이란과 12일 최고위급 비핵화 회담”\n",
      "https://v.daum.net/v/20250408202058581 아사드 몰아낸 시리아 놓고 튀르키예-이스라엘 '암투'\n",
      "https://v.daum.net/v/20250408200129167 이스라엘이 죽인 기자, 1·2차 대전에서 숨진 기자보다 많다\n",
      "https://v.daum.net/v/20250408194334625 “남자친구랑 헤어져” “가족 만나는데 허락 받아야” 프랑스서도 확산하는 신천지\n",
      "https://v.daum.net/v/20250408192801265 일본, 미국 관세 조치에 대책본부 설치…‘엔저’ 논의 가능성\n",
      "https://v.daum.net/v/20250408184213186 [영상] \"우리를 본받도록!\" 1등으로 찾아가 비위 맞췄지만…\"협상국이 중국 손 잡으면 어쩔래?\" 트럼프 예민한 반응이\n",
      "https://v.daum.net/v/20250408080003749 [르포] '수천 명 사망' 절망 속에서 태어난 아기의 첫 울음소리...이웃이 희망이었다\n",
      "https://v.daum.net/v/20250406153009950 [르포] 건물 10개 중 8개가 ‘와르르’… 한국 언론 최초 ‘진앙’ 사가잉 가봤더니\n",
      "https://v.daum.net/v/20250404043056954 [르포] 트라우마가 된 ‘그날’… “가만 있어도 땅 흔들리는 느낌”\n",
      "https://v.daum.net/v/20250403043018165 [르포] 폐부를 찌르는 '죽음의 냄새'… 미얀마 지진 '골든 타임'은 끝났다\n",
      "https://v.daum.net/v/20250402152610600 [현장]\"미얀마 지진 지역 탈출에 18시간\".. 관광객, 길 바닥에서 노숙\n"
     ]
    }
   ],
   "source": [
    "print_news('국제')"
   ]
  },
  {
   "cell_type": "markdown",
   "id": "dd4a8a2e",
   "metadata": {},
   "source": [
    "2-1 Nate 뉴스기사 제목 스크래핑하기"
   ]
  },
  {
   "cell_type": "code",
   "execution_count": 9,
   "id": "838c0376",
   "metadata": {},
   "outputs": [],
   "source": [
    "import requests\n",
    "from bs4 import BeautifulSoup\n",
    "from urllib.parse import urljoin\n",
    "from IPython.display import Image, display\n",
    "\n",
    "section_dict = {\n",
    "    \"최신뉴스\": \"n0100\",\n",
    "    \"정치\": \"n0200\",\n",
    "    \"경제\": \"n0300\",\n",
    "    \"사회\": \"n0400\",\n",
    "    \"세계\": \"n0500\",\n",
    "    \"IT/과학\": \"n0600\",\n",
    "}\n",
    "\n",
    "def print_news(section_name):\n",
    "    section = section_dict[section_name]\n",
    "    base_url = \"https://news.nate.com\"\n",
    "    url = f\"{base_url}/section?mid={section}\"\n",
    "    print(f\"=====> {url} {section_name} 뉴스 <=====\")\n",
    "\n",
    "    req_header = {\n",
    "        \"user-agent\": \"Mozilla/5.0 (Windows NT 10.0; Win64; x64) AppleWebKit/537.36 (KHTML, like Gecko) Chrome/135.0.0.0 Safari/537.36\"\n",
    "    }\n",
    "\n",
    "    res = requests.get(url, headers=req_header)\n",
    "    res.encoding = 'euc-kr'\n",
    "\n",
    "    if res.ok:\n",
    "        soup = BeautifulSoup(res.text, \"html.parser\")\n",
    "        \n",
    "        news_items = soup.select('div.mlt01')  # 기사 블록 기준\n",
    "\n",
    "        for item in news_items[:5]:  # 상위 5개 기사만 출력\n",
    "            a_tag = item.find('a')\n",
    "            if not a_tag:\n",
    "                continue\n",
    "            link = urljoin(base_url, a_tag['href'])\n",
    "\n",
    "            title_tag = item.select_one('h2.tit')\n",
    "            title = title_tag.get_text(strip=True) if title_tag else \"제목 없음\"\n",
    "\n",
    "            img_tag = item.find('img')\n",
    "            img_url = urljoin(base_url, img_tag['src']) if img_tag and img_tag.get('src') else None\n",
    "\n",
    "            print(\"제목:\", title)\n",
    "            print(\"링크:\", link)\n",
    "            if img_url:\n",
    "                print(\"이미지:\", img_url)\n",
    "                display(Image(url=img_url))\n",
    "            else:\n",
    "                print(\"이미지: 없음\")\n",
    "            print(\"-\" * 50)\n",
    "    else:\n",
    "        print(f\"요청 실패 - 상태 코드: {res.status_code}\")\n"
   ]
  },
  {
   "cell_type": "code",
   "execution_count": 10,
   "id": "b1839854",
   "metadata": {},
   "outputs": [
    {
     "name": "stdout",
     "output_type": "stream",
     "text": [
      "=====> https://news.nate.com/section?mid=n0400 사회 뉴스 <=====\n",
      "제목: [내일 날씨] 비 그치고 차차 맑아져…낮 최고 23도 '포근'\n",
      "링크: https://news.nate.com/view/20250409n35005?mid=n0400\n",
      "이미지: https://thumbnews.nateimg.co.kr/news90///news.nateimg.co.kr/orgImg/mt/2025/04/09/2025040917153798146_1.jpg\n"
     ]
    },
    {
     "data": {
      "text/html": [
       "<img src=\"https://thumbnews.nateimg.co.kr/news90///news.nateimg.co.kr/orgImg/mt/2025/04/09/2025040917153798146_1.jpg\"/>"
      ],
      "text/plain": [
       "<IPython.core.display.Image object>"
      ]
     },
     "metadata": {},
     "output_type": "display_data"
    },
    {
     "name": "stdout",
     "output_type": "stream",
     "text": [
      "--------------------------------------------------\n",
      "제목: [단독] 필리핀 가사관리사 논란 많은데…중개업체에 상 준다는 서울시\n",
      "링크: https://news.nate.com/view/20250409n32162?mid=n0400\n",
      "이미지: https://thumbnews.nateimg.co.kr/news90///news.nateimg.co.kr/orgImg/sg/2025/04/09/20250409516832.jpg\n"
     ]
    },
    {
     "data": {
      "text/html": [
       "<img src=\"https://thumbnews.nateimg.co.kr/news90///news.nateimg.co.kr/orgImg/sg/2025/04/09/20250409516832.jpg\"/>"
      ],
      "text/plain": [
       "<IPython.core.display.Image object>"
      ]
     },
     "metadata": {},
     "output_type": "display_data"
    },
    {
     "name": "stdout",
     "output_type": "stream",
     "text": [
      "--------------------------------------------------\n",
      "제목: [단독]강의실로 돌아온 서울의대생…본과 2·3학년 첫 시험 전원 응시\n",
      "링크: https://news.nate.com/view/20250409n30479?mid=n0400\n",
      "이미지: https://thumbnews.nateimg.co.kr/news90///news.nateimg.co.kr/orgImg/mk/2025/04/09/news-p.v1.20250409.7edffd6084f64718b40cbc9a357dad77_P1.jpg\n"
     ]
    },
    {
     "data": {
      "text/html": [
       "<img src=\"https://thumbnews.nateimg.co.kr/news90///news.nateimg.co.kr/orgImg/mk/2025/04/09/news-p.v1.20250409.7edffd6084f64718b40cbc9a357dad77_P1.jpg\"/>"
      ],
      "text/plain": [
       "<IPython.core.display.Image object>"
      ]
     },
     "metadata": {},
     "output_type": "display_data"
    },
    {
     "name": "stdout",
     "output_type": "stream",
     "text": [
      "--------------------------------------------------\n",
      "제목: 유골 뿌리는 '산분장' 합법화됐지만…뿌릴 장지가 없다\n",
      "링크: https://news.nate.com/view/20250409n31444?mid=n0400\n",
      "이미지: https://thumbnews.nateimg.co.kr/news90///news.nateimg.co.kr/orgImg/do/2025/04/09/131381224.1.jpg\n"
     ]
    },
    {
     "data": {
      "text/html": [
       "<img src=\"https://thumbnews.nateimg.co.kr/news90///news.nateimg.co.kr/orgImg/do/2025/04/09/131381224.1.jpg\"/>"
      ],
      "text/plain": [
       "<IPython.core.display.Image object>"
      ]
     },
     "metadata": {},
     "output_type": "display_data"
    },
    {
     "name": "stdout",
     "output_type": "stream",
     "text": [
      "--------------------------------------------------\n",
      "제목: 신생아에 \"낙상 마렵다\"…피해 父 \"간호사 사과 못받아, 자다가도 깬다\" 고통 호소\n",
      "링크: https://news.nate.com/view/20250409n26068?mid=n0400\n",
      "이미지: https://thumbnews.nateimg.co.kr/news90///news.nateimg.co.kr/orgImg/hr/2025/04/09/news-p.v1.20250409.81e7c029777a4bd4bda65110e455f865_P1.jpg\n"
     ]
    },
    {
     "data": {
      "text/html": [
       "<img src=\"https://thumbnews.nateimg.co.kr/news90///news.nateimg.co.kr/orgImg/hr/2025/04/09/news-p.v1.20250409.81e7c029777a4bd4bda65110e455f865_P1.jpg\"/>"
      ],
      "text/plain": [
       "<IPython.core.display.Image object>"
      ]
     },
     "metadata": {},
     "output_type": "display_data"
    },
    {
     "name": "stdout",
     "output_type": "stream",
     "text": [
      "--------------------------------------------------\n"
     ]
    }
   ],
   "source": [
    "print_news(\"사회\")"
   ]
  },
  {
   "cell_type": "code",
   "execution_count": 11,
   "id": "06a4db76",
   "metadata": {},
   "outputs": [
    {
     "name": "stdout",
     "output_type": "stream",
     "text": [
      "=====> https://news.nate.com/section?mid=n0100 최신뉴스 뉴스 <=====\n",
      "제목: 이재명, 10일 영상으로 대선 출마 선언…모레 국회서 비전 발표\n",
      "링크: https://news.nate.com/view/20250409n38004?mid=n0200\n",
      "이미지: https://thumbnews.nateimg.co.kr/news90///news.nateimg.co.kr/orgImg/sg/2025/04/09/20250409519279.jpg\n"
     ]
    },
    {
     "data": {
      "text/html": [
       "<img src=\"https://thumbnews.nateimg.co.kr/news90///news.nateimg.co.kr/orgImg/sg/2025/04/09/20250409519279.jpg\"/>"
      ],
      "text/plain": [
       "<IPython.core.display.Image object>"
      ]
     },
     "metadata": {},
     "output_type": "display_data"
    },
    {
     "name": "stdout",
     "output_type": "stream",
     "text": [
      "--------------------------------------------------\n",
      "제목: 풀려난 명태균의 입 주목…尹부부 의혹 등 검찰수사 변수될까\n",
      "링크: https://news.nate.com/view/20250409n37268?mid=n0200\n",
      "이미지: https://thumbnews.nateimg.co.kr/news90///news.nateimg.co.kr/orgImg/yt/2025/04/09/PYH2024111425140005200_P2.jpg\n"
     ]
    },
    {
     "data": {
      "text/html": [
       "<img src=\"https://thumbnews.nateimg.co.kr/news90///news.nateimg.co.kr/orgImg/yt/2025/04/09/PYH2024111425140005200_P2.jpg\"/>"
      ],
      "text/plain": [
       "<IPython.core.display.Image object>"
      ]
     },
     "metadata": {},
     "output_type": "display_data"
    },
    {
     "name": "stdout",
     "output_type": "stream",
     "text": [
      "--------------------------------------------------\n",
      "제목: [단독] 이름 써내는데 자율?…707대원들에 '김현태 선처' 탄원서 압박\n",
      "링크: https://news.nate.com/view/20250409n37734?mid=n0200\n",
      "이미지: https://thumbnews.nateimg.co.kr/news90///news.nateimg.co.kr/orgImg/jt/2025/04/09/20250409193303290001.jpg\n"
     ]
    },
    {
     "data": {
      "text/html": [
       "<img src=\"https://thumbnews.nateimg.co.kr/news90///news.nateimg.co.kr/orgImg/jt/2025/04/09/20250409193303290001.jpg\"/>"
      ],
      "text/plain": [
       "<IPython.core.display.Image object>"
      ]
     },
     "metadata": {},
     "output_type": "display_data"
    },
    {
     "name": "stdout",
     "output_type": "stream",
     "text": [
      "--------------------------------------------------\n",
      "제목: 한덕수 지명 함상훈 후보자, '요금 2400원 횡령' 버스기사 해고 판결 전력\n",
      "링크: https://news.nate.com/view/20250409n36682?mid=n0200\n",
      "이미지: https://thumbnews.nateimg.co.kr/news90///news.nateimg.co.kr/orgImg/kh/2025/04/09/news-p.v1.20250409.0003b39d635b4a409f6e28e66daebe77_P1.jpg\n"
     ]
    },
    {
     "data": {
      "text/html": [
       "<img src=\"https://thumbnews.nateimg.co.kr/news90///news.nateimg.co.kr/orgImg/kh/2025/04/09/news-p.v1.20250409.0003b39d635b4a409f6e28e66daebe77_P1.jpg\"/>"
      ],
      "text/plain": [
       "<IPython.core.display.Image object>"
      ]
     },
     "metadata": {},
     "output_type": "display_data"
    },
    {
     "name": "stdout",
     "output_type": "stream",
     "text": [
      "--------------------------------------------------\n",
      "제목: [단독] 이완규, 경찰에 \"알 바 아냐\"…안가 회동 묻자 위압적 태도\n",
      "링크: https://news.nate.com/view/20250409n37357?mid=n0200\n",
      "이미지: https://thumbnews.nateimg.co.kr/news90///news.nateimg.co.kr/orgImg/jt/2025/04/09/20250409191348902001.jpg\n"
     ]
    },
    {
     "data": {
      "text/html": [
       "<img src=\"https://thumbnews.nateimg.co.kr/news90///news.nateimg.co.kr/orgImg/jt/2025/04/09/20250409191348902001.jpg\"/>"
      ],
      "text/plain": [
       "<IPython.core.display.Image object>"
      ]
     },
     "metadata": {},
     "output_type": "display_data"
    },
    {
     "name": "stdout",
     "output_type": "stream",
     "text": [
      "--------------------------------------------------\n"
     ]
    }
   ],
   "source": [
    "print_news(\"최신뉴스\")"
   ]
  },
  {
   "cell_type": "markdown",
   "id": "91ae318c",
   "metadata": {},
   "source": [
    "2-2 하나의 네이버 웹툰과 1개의 회차에 대한 Image 다운로드 하기"
   ]
  },
  {
   "cell_type": "code",
   "execution_count": 14,
   "id": "dca04895",
   "metadata": {},
   "outputs": [],
   "source": [
    "import requests\n",
    "from bs4 import BeautifulSoup\n",
    "import os\n",
    "\n",
    "def download_one_episode(title, no, url):\n",
    "    # Referer 헤더 포함\n",
    "    req_header = {'referer': url, 'user-agent': 'Mozilla/5.0'}\n",
    "\n",
    "    # 저장 폴더 설정: img/웹툰제목/회차번호/\n",
    "    imgdir_name = os.path.join('img', title, str(no))\n",
    "    os.makedirs(imgdir_name, exist_ok=True)\n",
    "\n",
    "    # 웹 페이지 요청\n",
    "    res = requests.get(url, headers=req_header)\n",
    "    if not res.ok:\n",
    "        print(f'Error Code = {res.status_code}')\n",
    "        return\n",
    "\n",
    "    # 이미지 URL 추출\n",
    "    soup = BeautifulSoup(res.text, 'html.parser')\n",
    "    img_url_list = [img_tag['src'] for img_tag in soup.select(\"img[src*='IMAG01']\")]\n",
    "\n",
    "    # 이미지 다운로드\n",
    "    for img_url in img_url_list:\n",
    "        res = requests.get(img_url, headers=req_header)\n",
    "        if res.ok:\n",
    "            img_data = res.content\n",
    "            file_path = os.path.join(imgdir_name, os.path.basename(img_url).split('?')[0])\n",
    "            with open(file_path, 'wb') as file:\n",
    "                print(f'Writing to {file_path} ({len(img_data):,} bytes)')\n",
    "                file.write(img_data)\n",
    "        else:\n",
    "            print(f'Error Code = {res.status_code} for {img_url}')\n"
   ]
  },
  {
   "cell_type": "code",
   "execution_count": 15,
   "id": "af91bf7a",
   "metadata": {},
   "outputs": [
    {
     "name": "stdout",
     "output_type": "stream",
     "text": [
      "Writing to img\\낢이사는이야기\\48\\20250310103947_792197c569e377c7f369fe9d6f2bd961_IMAG01_1.jpg (166,289 bytes)\n",
      "Writing to img\\낢이사는이야기\\48\\20250310103947_792197c569e377c7f369fe9d6f2bd961_IMAG01_2.jpg (117,581 bytes)\n",
      "Writing to img\\낢이사는이야기\\48\\20250310103947_792197c569e377c7f369fe9d6f2bd961_IMAG01_3.jpg (175,647 bytes)\n",
      "Writing to img\\낢이사는이야기\\48\\20250310103947_792197c569e377c7f369fe9d6f2bd961_IMAG01_4.jpg (140,295 bytes)\n",
      "Writing to img\\낢이사는이야기\\48\\20250310103947_792197c569e377c7f369fe9d6f2bd961_IMAG01_5.jpg (115,277 bytes)\n",
      "Writing to img\\낢이사는이야기\\48\\20250310103947_792197c569e377c7f369fe9d6f2bd961_IMAG01_6.jpg (86,840 bytes)\n",
      "Writing to img\\낢이사는이야기\\48\\20250310103947_792197c569e377c7f369fe9d6f2bd961_IMAG01_7.jpg (151,280 bytes)\n",
      "Writing to img\\낢이사는이야기\\48\\20250310103947_792197c569e377c7f369fe9d6f2bd961_IMAG01_8.jpg (146,198 bytes)\n",
      "Writing to img\\낢이사는이야기\\48\\20250310103947_792197c569e377c7f369fe9d6f2bd961_IMAG01_9.jpg (86,460 bytes)\n",
      "Writing to img\\낢이사는이야기\\48\\20250310103947_792197c569e377c7f369fe9d6f2bd961_IMAG01_10.jpg (152,631 bytes)\n",
      "Writing to img\\낢이사는이야기\\48\\20250310103947_792197c569e377c7f369fe9d6f2bd961_IMAG01_11.jpg (236,174 bytes)\n",
      "Writing to img\\낢이사는이야기\\48\\20250310103947_792197c569e377c7f369fe9d6f2bd961_IMAG01_12.jpg (218,403 bytes)\n",
      "Writing to img\\낢이사는이야기\\48\\20250310103947_792197c569e377c7f369fe9d6f2bd961_IMAG01_13.jpg (126,874 bytes)\n",
      "Writing to img\\낢이사는이야기\\48\\20250310103947_792197c569e377c7f369fe9d6f2bd961_IMAG01_14.jpg (169,822 bytes)\n",
      "Writing to img\\낢이사는이야기\\48\\20250310103947_792197c569e377c7f369fe9d6f2bd961_IMAG01_15.jpg (100,097 bytes)\n",
      "Writing to img\\낢이사는이야기\\48\\20250310103947_792197c569e377c7f369fe9d6f2bd961_IMAG01_16.jpg (138,348 bytes)\n",
      "Writing to img\\낢이사는이야기\\48\\20250310103947_792197c569e377c7f369fe9d6f2bd961_IMAG01_17.jpg (136,580 bytes)\n",
      "Writing to img\\낢이사는이야기\\48\\20250310103947_792197c569e377c7f369fe9d6f2bd961_IMAG01_18.jpg (127,154 bytes)\n",
      "Writing to img\\낢이사는이야기\\48\\20250310103947_792197c569e377c7f369fe9d6f2bd961_IMAG01_19.jpg (155,183 bytes)\n",
      "Writing to img\\낢이사는이야기\\48\\20250310103947_792197c569e377c7f369fe9d6f2bd961_IMAG01_20.jpg (175,333 bytes)\n",
      "Writing to img\\낢이사는이야기\\48\\20250310103947_792197c569e377c7f369fe9d6f2bd961_IMAG01_21.jpg (108,840 bytes)\n",
      "Writing to img\\낢이사는이야기\\48\\20250310103947_792197c569e377c7f369fe9d6f2bd961_IMAG01_22.jpg (107,072 bytes)\n",
      "Writing to img\\낢이사는이야기\\48\\20250310103947_792197c569e377c7f369fe9d6f2bd961_IMAG01_23.jpg (9,392 bytes)\n"
     ]
    }
   ],
   "source": [
    "download_one_episode('낢이사는이야기', 48, 'https://comic.naver.com/webtoon/detail?titleId=833255&no=49&week=tue')"
   ]
  }
 ],
 "metadata": {
  "kernelspec": {
   "display_name": "base",
   "language": "python",
   "name": "python3"
  },
  "language_info": {
   "codemirror_mode": {
    "name": "ipython",
    "version": 3
   },
   "file_extension": ".py",
   "mimetype": "text/x-python",
   "name": "python",
   "nbconvert_exporter": "python",
   "pygments_lexer": "ipython3",
   "version": "3.12.7"
  }
 },
 "nbformat": 4,
 "nbformat_minor": 5
}
